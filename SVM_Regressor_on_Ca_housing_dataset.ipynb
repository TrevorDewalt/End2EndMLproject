{
  "nbformat": 4,
  "nbformat_minor": 0,
  "metadata": {
    "colab": {
      "provenance": [],
      "collapsed_sections": []
    },
    "kernelspec": {
      "name": "python3",
      "display_name": "Python 3"
    },
    "language_info": {
      "name": "python"
    }
  },
  "cells": [
    {
      "cell_type": "code",
      "execution_count": 1,
      "metadata": {
        "id": "KXF3veBEwv69"
      },
      "outputs": [],
      "source": [
        "import pandas as pd\n",
        "import sklearn\n",
        "assert sklearn.__version__ >= \"0.20\"\n",
        "import numpy as np\n",
        "%matplotlib inline\n",
        "import matplotlib as mpl\n",
        "import matplotlib.pyplot as plt"
      ]
    },
    {
      "cell_type": "code",
      "source": [
        "from sklearn.svm import SVC\n",
        "from sklearn import datasets\n",
        "from sklearn.datasets import fetch_california_housing"
      ],
      "metadata": {
        "id": "c7OacKUVxA1R"
      },
      "execution_count": 2,
      "outputs": []
    },
    {
      "cell_type": "code",
      "source": [
        "housing = fetch_california_housing()\n",
        "X = housing[\"data\"]\n",
        "y = housing[\"target\"]"
      ],
      "metadata": {
        "id": "qN5qWXx9xX7J"
      },
      "execution_count": 3,
      "outputs": []
    },
    {
      "cell_type": "code",
      "source": [
        "from sklearn.model_selection import train_test_split\n",
        "\n",
        "X_train, X_test, y_train, y_test = train_test_split(X, y, test_size=0.2, random_state=42)"
      ],
      "metadata": {
        "id": "hFh0-JJtxeEp"
      },
      "execution_count": 4,
      "outputs": []
    },
    {
      "cell_type": "code",
      "source": [
        "\"\"\"\n",
        "SVMs are sensitive to the feature scales. We need to scale the data (standardize features by \n",
        "removing the mean and scaling to unit variance) and can use standardscalar() to do this\n",
        "\"\"\"\n",
        "from sklearn.preprocessing import StandardScaler\n",
        "scaler = StandardScaler()\n",
        "X_train_scaled = scaler.fit_transform(X_train)\n",
        "X_test_scaled = scaler.transform(X_test)"
      ],
      "metadata": {
        "id": "D_kb__Bxyv3z"
      },
      "execution_count": 5,
      "outputs": []
    },
    {
      "cell_type": "code",
      "source": [
        "from sklearn.svm import LinearSVR\n",
        "\n",
        "lin_svr = LinearSVR(random_state=42)\n",
        "lin_svr.fit(X_train_scaled, y_train)"
      ],
      "metadata": {
        "colab": {
          "base_uri": "https://localhost:8080/"
        },
        "id": "ztqyjhh2yv6n",
        "outputId": "3aa4dd09-568b-48cb-b5ab-c04fb16b1580"
      },
      "execution_count": 6,
      "outputs": [
        {
          "output_type": "stream",
          "name": "stderr",
          "text": [
            "/usr/local/lib/python3.7/dist-packages/sklearn/svm/_base.py:1208: ConvergenceWarning: Liblinear failed to converge, increase the number of iterations.\n",
            "  ConvergenceWarning,\n"
          ]
        },
        {
          "output_type": "execute_result",
          "data": {
            "text/plain": [
              "LinearSVR(random_state=42)"
            ]
          },
          "metadata": {},
          "execution_count": 6
        }
      ]
    },
    {
      "cell_type": "code",
      "source": [
        "from sklearn.metrics import mean_squared_error\n",
        "\n",
        "y_pred = lin_svr.predict(X_train_scaled)\n",
        "mse = mean_squared_error(y_train, y_pred)\n",
        "mse"
      ],
      "metadata": {
        "colab": {
          "base_uri": "https://localhost:8080/"
        },
        "id": "uPD5g3KJyv9K",
        "outputId": "4d7de1ed-0fce-4164-c20d-b2794cf3b2b1"
      },
      "execution_count": 7,
      "outputs": [
        {
          "output_type": "execute_result",
          "data": {
            "text/plain": [
              "0.9641780189948642"
            ]
          },
          "metadata": {},
          "execution_count": 7
        }
      ]
    },
    {
      "cell_type": "code",
      "source": [
        "#RMSE\n",
        "np.sqrt(mse)"
      ],
      "metadata": {
        "colab": {
          "base_uri": "https://localhost:8080/"
        },
        "id": "gbEeMyjd23cY",
        "outputId": "d9348153-e528-4a38-fe86-d8cf3fc092b6"
      },
      "execution_count": 8,
      "outputs": [
        {
          "output_type": "execute_result",
          "data": {
            "text/plain": [
              "0.9819256687727764"
            ]
          },
          "metadata": {},
          "execution_count": 8
        }
      ]
    },
    {
      "cell_type": "code",
      "source": [
        "\"\"\"\n",
        "That is not very good. With this RMSE we can expect errors in the $10k range. Can we do better with an RBF (Radial Basis Function) Kernel? \n",
        "Lets use Randomized Search with Cross Validation to find appropriate hyperparameter values for C & Gamma\n",
        "\"\"\"\n",
        "\n",
        "from sklearn.svm import SVR\n",
        "from sklearn.model_selection import RandomizedSearchCV\n",
        "from scipy.stats import reciprocal, uniform\n",
        "\n",
        "param_distributions = {\"gamma\": reciprocal(0.001, 0.1), \"C\": uniform(1, 10)}\n",
        "rnd_search_cv = RandomizedSearchCV(SVR(), param_distributions, n_iter=10, verbose=2, cv=3, random_state=42)\n",
        "rnd_search_cv.fit(X_train_scaled, y_train)"
      ],
      "metadata": {
        "colab": {
          "base_uri": "https://localhost:8080/"
        },
        "id": "GeVzkRuh2-UP",
        "outputId": "0c7062d1-8f6c-4e8f-b62a-159f4b95c875"
      },
      "execution_count": 9,
      "outputs": [
        {
          "output_type": "stream",
          "name": "stdout",
          "text": [
            "Fitting 3 folds for each of 10 candidates, totalling 30 fits\n",
            "[CV] END .....C=4.745401188473625, gamma=0.07969454818643928; total time=  17.7s\n",
            "[CV] END .....C=4.745401188473625, gamma=0.07969454818643928; total time=  10.1s\n",
            "[CV] END .....C=4.745401188473625, gamma=0.07969454818643928; total time=  10.3s\n",
            "[CV] END .....C=8.31993941811405, gamma=0.015751320499779724; total time=   9.9s\n",
            "[CV] END .....C=8.31993941811405, gamma=0.015751320499779724; total time=   9.7s\n",
            "[CV] END .....C=8.31993941811405, gamma=0.015751320499779724; total time=   9.8s\n",
            "[CV] END ....C=2.560186404424365, gamma=0.002051110418843397; total time=   9.3s\n",
            "[CV] END ....C=2.560186404424365, gamma=0.002051110418843397; total time=   9.4s\n",
            "[CV] END ....C=2.560186404424365, gamma=0.002051110418843397; total time=  10.6s\n",
            "[CV] END ....C=1.5808361216819946, gamma=0.05399484409787431; total time=   9.2s\n",
            "[CV] END ....C=1.5808361216819946, gamma=0.05399484409787431; total time=   9.1s\n",
            "[CV] END ....C=1.5808361216819946, gamma=0.05399484409787431; total time=   9.2s\n",
            "[CV] END ....C=7.011150117432088, gamma=0.026070247583707663; total time=   9.8s\n",
            "[CV] END ....C=7.011150117432088, gamma=0.026070247583707663; total time=   9.8s\n",
            "[CV] END ....C=7.011150117432088, gamma=0.026070247583707663; total time=   9.9s\n",
            "[CV] END .....C=1.2058449429580245, gamma=0.0870602087830485; total time=   9.0s\n",
            "[CV] END .....C=1.2058449429580245, gamma=0.0870602087830485; total time=   9.1s\n",
            "[CV] END .....C=1.2058449429580245, gamma=0.0870602087830485; total time=   9.1s\n",
            "[CV] END ...C=9.324426408004218, gamma=0.0026587543983272693; total time=   9.5s\n",
            "[CV] END ...C=9.324426408004218, gamma=0.0026587543983272693; total time=   9.5s\n",
            "[CV] END ...C=9.324426408004218, gamma=0.0026587543983272693; total time=   9.4s\n",
            "[CV] END ...C=2.818249672071006, gamma=0.0023270677083837795; total time=   9.3s\n",
            "[CV] END ...C=2.818249672071006, gamma=0.0023270677083837795; total time=   9.4s\n",
            "[CV] END ...C=2.818249672071006, gamma=0.0023270677083837795; total time=   9.4s\n",
            "[CV] END ....C=4.042422429595377, gamma=0.011207606211860567; total time=   9.3s\n",
            "[CV] END ....C=4.042422429595377, gamma=0.011207606211860567; total time=   9.4s\n",
            "[CV] END ....C=4.042422429595377, gamma=0.011207606211860567; total time=   9.4s\n",
            "[CV] END ....C=5.319450186421157, gamma=0.003823475224675185; total time=   9.4s\n",
            "[CV] END ....C=5.319450186421157, gamma=0.003823475224675185; total time=   9.4s\n",
            "[CV] END ....C=5.319450186421157, gamma=0.003823475224675185; total time=   9.4s\n"
          ]
        },
        {
          "output_type": "execute_result",
          "data": {
            "text/plain": [
              "RandomizedSearchCV(cv=3, estimator=SVR(),\n",
              "                   param_distributions={'C': <scipy.stats._distn_infrastructure.rv_frozen object at 0x7f62a5af3e90>,\n",
              "                                        'gamma': <scipy.stats._distn_infrastructure.rv_frozen object at 0x7f62a5a83410>},\n",
              "                   random_state=42, verbose=2)"
            ]
          },
          "metadata": {},
          "execution_count": 9
        }
      ]
    },
    {
      "cell_type": "code",
      "source": [
        "rnd_search_cv.best_estimator_"
      ],
      "metadata": {
        "colab": {
          "base_uri": "https://localhost:8080/"
        },
        "id": "FkHnJvi_3Tn5",
        "outputId": "b38c9074-6eb6-4d15-d27e-24dda7818864"
      },
      "execution_count": 10,
      "outputs": [
        {
          "output_type": "execute_result",
          "data": {
            "text/plain": [
              "SVR(C=4.745401188473625, gamma=0.07969454818643928)"
            ]
          },
          "metadata": {},
          "execution_count": 10
        }
      ]
    },
    {
      "cell_type": "code",
      "source": [
        "# Measure the RMSE on the training set\n",
        "\n",
        "y_pred = rnd_search_cv.best_estimator_.predict(X_train_scaled)\n",
        "mse = mean_squared_error(y_train, y_pred)\n",
        "np.sqrt(mse)"
      ],
      "metadata": {
        "colab": {
          "base_uri": "https://localhost:8080/"
        },
        "id": "oODLfipX_Xln",
        "outputId": "fe53447f-027b-4eef-beb8-c22441272386"
      },
      "execution_count": 11,
      "outputs": [
        {
          "output_type": "execute_result",
          "data": {
            "text/plain": [
              "0.5727524770785356"
            ]
          },
          "metadata": {},
          "execution_count": 11
        }
      ]
    },
    {
      "cell_type": "code",
      "source": [
        "# Now evaluate on the test set\n",
        "\n",
        "y_pred = rnd_search_cv.best_estimator_.predict(X_test_scaled)\n",
        "mse = mean_squared_error(y_test, y_pred)\n",
        "np.sqrt(mse)"
      ],
      "metadata": {
        "colab": {
          "base_uri": "https://localhost:8080/"
        },
        "id": "D_bR-sCH_iMd",
        "outputId": "67db3cfb-f91d-4b5f-a9dd-5453c31bd603"
      },
      "execution_count": 12,
      "outputs": [
        {
          "output_type": "execute_result",
          "data": {
            "text/plain": [
              "0.592916838552874"
            ]
          },
          "metadata": {},
          "execution_count": 12
        }
      ]
    },
    {
      "cell_type": "code",
      "source": [],
      "metadata": {
        "id": "93RSozWR_qV3"
      },
      "execution_count": 12,
      "outputs": []
    }
  ]
}